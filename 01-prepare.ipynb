{
 "cells": [
  {
   "cell_type": "code",
   "execution_count": 1,
   "id": "47e5b1da-2cb1-46e1-9f00-074abc7c53ba",
   "metadata": {},
   "outputs": [],
   "source": [
    "%reload_ext autoreload\n",
    "%autoreload 2\n",
    "%matplotlib inline"
   ]
  },
  {
   "cell_type": "code",
   "execution_count": 2,
   "id": "3ba193e1-1ea9-4aad-ab5e-7e6303cc857b",
   "metadata": {
    "tags": []
   },
   "outputs": [],
   "source": [
    "SEASON = '21'"
   ]
  },
  {
   "cell_type": "code",
   "execution_count": 47,
   "id": "9be4a7dd-7687-4f35-8fd5-76b80232fdc8",
   "metadata": {},
   "outputs": [],
   "source": [
    "# Download latest results in current season\n",
    "!wget -q https://www.football-data.co.uk/mmz4281/{SEASON}{int(SEASON)+1}/data.zip -O raw_data/data.zip\n",
    "\n",
    "# Unzip to folder\n",
    "!unzip -q -o raw_data/data.zip -d raw_data/{SEASON}"
   ]
  },
  {
   "cell_type": "code",
   "execution_count": 4,
   "id": "605eba16",
   "metadata": {},
   "outputs": [],
   "source": [
    "from fastai.tabular.all import * \n",
    "from utils import *"
   ]
  },
  {
   "cell_type": "code",
   "execution_count": 5,
   "id": "f1841e25",
   "metadata": {},
   "outputs": [],
   "source": [
    "path_raw = Path('raw_data')\n",
    "path_data = Path('data')"
   ]
  },
  {
   "cell_type": "code",
   "execution_count": 6,
   "id": "9429134d",
   "metadata": {},
   "outputs": [
    {
     "name": "stdout",
     "output_type": "stream",
     "text": [
      "total 11M\n",
      "drwxrwxr-x  2 twtang twtang 4.0K Oct 29 22:29 21\n",
      "drwxrwxr-x 10 twtang twtang 4.0K Oct 29 22:29 ..\n",
      "-rw-rw-r--  1 twtang twtang 314K Oct 29 06:22 data.zip\n",
      "drwxrwxr-x 24 twtang twtang 4.0K Oct 26 21:23 .\n",
      "drwxrwxr-x  2 twtang twtang 4.0K Sep 16 16:22 20\n",
      "drwxrwxr-x  2 twtang twtang 4.0K Sep  9 16:23 00\n",
      "drwxrwxr-x  2 twtang twtang 4.0K Sep  9 16:22 07\n",
      "drwxrwxr-x  2 twtang twtang 4.0K Sep  9 16:22 08\n",
      "drwxrwxr-x  2 twtang twtang 4.0K Sep  9 16:22 09\n",
      "drwxrwxr-x  2 twtang twtang 4.0K Sep  9 16:22 06\n",
      "drwxrwxr-x  2 twtang twtang 4.0K Sep  9 16:22 05\n",
      "drwxrwxr-x  2 twtang twtang 4.0K Sep  9 16:22 04\n",
      "drwxrwxr-x  2 twtang twtang 4.0K Sep  9 16:22 03\n",
      "drwxrwxr-x  2 twtang twtang 4.0K Sep  9 16:22 02\n",
      "drwxrwxr-x  2 twtang twtang 4.0K Sep  9 16:22 01\n",
      "drwxrwxr-x  2 twtang twtang 4.0K Sep  9 16:22 10\n",
      "drwxrwxr-x  2 twtang twtang 4.0K Sep  9 16:22 11\n",
      "drwxrwxr-x  2 twtang twtang 4.0K Sep  9 16:22 12\n",
      "drwxrwxr-x  2 twtang twtang 4.0K Sep  9 16:21 13\n",
      "drwxrwxr-x  2 twtang twtang 4.0K Sep  9 16:21 14\n",
      "drwxrwxr-x  2 twtang twtang 4.0K Sep  9 16:21 16\n",
      "drwxrwxr-x  2 twtang twtang 4.0K Sep  9 16:21 17\n",
      "drwxrwxr-x  2 twtang twtang 4.0K Sep  9 16:21 18\n",
      "drwxrwxr-x  2 twtang twtang 4.0K Sep  9 16:21 19\n",
      "-rw-rw-r--  1 twtang twtang 211K Sep  9 16:20 00.zip\n",
      "-rw-rw-r--  1 twtang twtang 229K Sep  9 16:20 01.zip\n",
      "-rw-rw-r--  1 twtang twtang 221K Sep  9 16:20 02.zip\n",
      "-rw-rw-r--  1 twtang twtang 267K Sep  9 16:20 03.zip\n",
      "-rw-rw-r--  1 twtang twtang 312K Sep  9 16:20 04.zip\n",
      "-rw-rw-r--  1 twtang twtang 522K Sep  9 16:20 05.zip\n",
      "-rw-rw-r--  1 twtang twtang 530K Sep  9 16:20 06.zip\n",
      "-rw-rw-r--  1 twtang twtang 546K Sep  9 16:20 07.zip\n",
      "-rw-rw-r--  1 twtang twtang 558K Sep  9 16:20 08.zip\n",
      "-rw-rw-r--  1 twtang twtang 551K Sep  9 16:20 09.zip\n",
      "-rw-rw-r--  1 twtang twtang 562K Sep  9 16:20 10.zip\n",
      "-rw-rw-r--  1 twtang twtang 566K Sep  9 16:20 11.zip\n",
      "-rw-rw-r--  1 twtang twtang 610K Sep  9 16:20 12.zip\n",
      "-rw-rw-r--  1 twtang twtang 590K Sep  9 16:20 13.zip\n",
      "-rw-rw-r--  1 twtang twtang 583K Sep  9 16:20 14.zip\n",
      "-rw-rw-r--  1 twtang twtang 571K Sep  9 16:20 16.zip\n",
      "-rw-rw-r--  1 twtang twtang 615K Sep  9 16:20 17.zip\n",
      "-rw-rw-r--  1 twtang twtang 577K Sep  9 16:19 18.zip\n",
      "-rw-rw-r--  1 twtang twtang 890K Sep  9 16:19 19.zip\n",
      "-rw-rw-r--  1 twtang twtang 989K Sep  9 16:19 20.zip\n",
      "-rw-rw-r--  1 twtang twtang 118K Sep  9 16:19 21.zip\n",
      "drwxrwxr-x  2 twtang twtang 4.0K Sep  9 16:19 15\n",
      "-rw-rw-r--  1 twtang twtang 6.6K Sep  5 16:39 notes.txt\n"
     ]
    }
   ],
   "source": [
    "!ls -lah -t {str(path_raw)}"
   ]
  },
  {
   "cell_type": "code",
   "execution_count": 7,
   "id": "a79fba5a",
   "metadata": {},
   "outputs": [
    {
     "data": {
      "text/plain": [
       "[Path('raw_data/00'),\n",
       " Path('raw_data/00.zip'),\n",
       " Path('raw_data/01'),\n",
       " Path('raw_data/01.zip'),\n",
       " Path('raw_data/02'),\n",
       " Path('raw_data/02.zip'),\n",
       " Path('raw_data/03'),\n",
       " Path('raw_data/03.zip'),\n",
       " Path('raw_data/04'),\n",
       " Path('raw_data/04.zip'),\n",
       " Path('raw_data/05'),\n",
       " Path('raw_data/05.zip'),\n",
       " Path('raw_data/06'),\n",
       " Path('raw_data/06.zip'),\n",
       " Path('raw_data/07'),\n",
       " Path('raw_data/07.zip'),\n",
       " Path('raw_data/08'),\n",
       " Path('raw_data/08.zip'),\n",
       " Path('raw_data/09'),\n",
       " Path('raw_data/09.zip'),\n",
       " Path('raw_data/10'),\n",
       " Path('raw_data/10.zip'),\n",
       " Path('raw_data/11'),\n",
       " Path('raw_data/11.zip'),\n",
       " Path('raw_data/12'),\n",
       " Path('raw_data/12.zip'),\n",
       " Path('raw_data/13'),\n",
       " Path('raw_data/13.zip'),\n",
       " Path('raw_data/14'),\n",
       " Path('raw_data/14.zip'),\n",
       " Path('raw_data/15'),\n",
       " Path('raw_data/16'),\n",
       " Path('raw_data/16.zip'),\n",
       " Path('raw_data/17'),\n",
       " Path('raw_data/17.zip'),\n",
       " Path('raw_data/18'),\n",
       " Path('raw_data/18.zip'),\n",
       " Path('raw_data/19'),\n",
       " Path('raw_data/19.zip'),\n",
       " Path('raw_data/20'),\n",
       " Path('raw_data/20.zip'),\n",
       " Path('raw_data/21'),\n",
       " Path('raw_data/21.zip'),\n",
       " Path('raw_data/data.zip'),\n",
       " Path('raw_data/notes.txt')]"
      ]
     },
     "execution_count": 7,
     "metadata": {},
     "output_type": "execute_result"
    }
   ],
   "source": [
    "sorted(list(path_raw.iterdir()))"
   ]
  },
  {
   "cell_type": "code",
   "execution_count": 60,
   "id": "faf01aff",
   "metadata": {},
   "outputs": [],
   "source": [
    "usecols = ['Div', 'Date', 'HomeTeam', 'AwayTeam', 'HC', 'AC', 'FTHG', 'FTAG', 'HS', 'AS', 'HST', 'AST']\n",
    "dtype = {'HC':'float', 'AC':'float'}\n",
    "parse_dates = ['Date']\n",
    "\n",
    "seasons = [str(s).zfill(2) for s in range(10, 22)]"
   ]
  },
  {
   "cell_type": "code",
   "execution_count": 61,
   "id": "ea5f339a",
   "metadata": {},
   "outputs": [],
   "source": [
    "dfs = []\n",
    "\n",
    "for folder in sorted(path_raw.iterdir()):\n",
    "    if folder.is_dir() and folder.name in seasons: \n",
    "        for file in sorted(folder.glob('*.csv')):\n",
    "            try:\n",
    "                df = pd.read_csv(file, usecols=usecols, dtype=dtype, parse_dates=parse_dates, dayfirst=True)\n",
    "                df['Season'] = folder.name\n",
    "                dfs.append(df)\n",
    "            except:\n",
    "                continue"
   ]
  },
  {
   "cell_type": "code",
   "execution_count": 62,
   "id": "0577b00d",
   "metadata": {},
   "outputs": [],
   "source": [
    "df = pd.concat(dfs)\n",
    "df = df.dropna()\n",
    "df = df.sort_values(['Div', 'Date', 'HomeTeam']).reset_index(drop=True)"
   ]
  },
  {
   "cell_type": "code",
   "execution_count": 63,
   "id": "01933fca",
   "metadata": {},
   "outputs": [],
   "source": [
    "# Make features on historical stats (Home and Away)\n",
    "stats = ['FTHG', 'HS', 'HST', 'HC', 'FTAG', 'AS', 'AST', 'AC']\n",
    "df_home, df_away = joinLastGamesStatsHomeAway(df, stats)"
   ]
  },
  {
   "cell_type": "code",
   "execution_count": 64,
   "id": "ae450b6e-ae8b-49b1-a4f2-3391cb1d8aef",
   "metadata": {},
   "outputs": [],
   "source": [
    "# Make features on historical stats (For and Against)\n",
    "stats = [('FTHG', 'FTAG', 'FTG'), ('HS', 'AS', 'S'), ('HST', 'AST', 'ST'), ('HC', 'AC', 'C')]\n",
    "df_for, df_against = joinLastGamesStatsForAgainst(df, stats)"
   ]
  },
  {
   "cell_type": "code",
   "execution_count": 65,
   "id": "48e33655-454f-48d0-8965-4a5a3b076c04",
   "metadata": {},
   "outputs": [],
   "source": [
    "df = df.merge(df_home, 'left', ['HomeTeam', 'Date']).merge(df_away, 'left', ['AwayTeam', 'Date'])"
   ]
  },
  {
   "cell_type": "code",
   "execution_count": 66,
   "id": "31c492c4-9312-4bf6-b41e-3ecca0937824",
   "metadata": {},
   "outputs": [],
   "source": [
    "cols_home = df_for.columns[df_for.columns.str.contains('Avg')]\n",
    "cols_home = dict(zip(cols_home, 'Home'+cols_home))\n",
    "cols_home.update({'Team':'HomeTeam'})\n",
    "\n",
    "cols_away = df_for.columns[df_for.columns.str.contains('Avg')]\n",
    "cols_away = dict(zip(cols_home, 'Away'+cols_away))\n",
    "cols_away.update({'Team':'AwayTeam'})\n",
    "\n",
    "df = df.merge(df_for.rename(columns=cols_home), 'left', ['HomeTeam', 'Date']).merge(df_for.rename(columns=cols_away), 'left', ['AwayTeam', 'Date'])"
   ]
  },
  {
   "cell_type": "code",
   "execution_count": 67,
   "id": "ba89d6c5-6630-416b-997c-cc5344141ee9",
   "metadata": {},
   "outputs": [],
   "source": [
    "cols_home = df_against.columns[df_against.columns.str.contains('Avg')]\n",
    "cols_home = dict(zip(cols_home, 'Home'+cols_home))\n",
    "cols_home.update({'Team':'HomeTeam'})\n",
    "\n",
    "cols_away = df_against.columns[df_against.columns.str.contains('Avg')]\n",
    "cols_away = dict(zip(cols_home, 'Away'+cols_away))\n",
    "cols_away.update({'Team':'AwayTeam'})\n",
    "\n",
    "df = df.merge(df_against.rename(columns=cols_home), 'left', ['HomeTeam', 'Date']).merge(df_against.rename(columns=cols_away), 'left', ['AwayTeam', 'Date'])"
   ]
  },
  {
   "cell_type": "code",
   "execution_count": 68,
   "id": "c15c3d12",
   "metadata": {},
   "outputs": [],
   "source": [
    "df = df.sort_values(['Div', 'Date', 'HomeTeam']).reset_index(drop=True)"
   ]
  },
  {
   "cell_type": "code",
   "execution_count": 69,
   "id": "b4f3681f",
   "metadata": {},
   "outputs": [],
   "source": [
    "df.to_csv(path_data/'data.csv', index=False)"
   ]
  },
  {
   "cell_type": "code",
   "execution_count": 70,
   "id": "bc37e615-b560-4f77-ae60-730379dd0154",
   "metadata": {},
   "outputs": [
    {
     "data": {
      "text/plain": [
       "Index(['Div', 'Date', 'HomeTeam', 'AwayTeam', 'FTHG', 'FTAG', 'HS', 'AS',\n",
       "       'HST', 'AST', 'HC', 'AC', 'Season', 'FTHGLast5Avg', 'HSLast5Avg',\n",
       "       'HSTLast5Avg', 'HCLast5Avg', 'FTAGLast5Avg', 'ASLast5Avg',\n",
       "       'ASTLast5Avg', 'ACLast5Avg', 'HomeFTGForLast5Avg', 'HomeSForLast5Avg',\n",
       "       'HomeSTForLast5Avg', 'HomeCForLast5Avg', 'AwayFTGForLast5Avg',\n",
       "       'AwaySForLast5Avg', 'AwaySTForLast5Avg', 'AwayCForLast5Avg',\n",
       "       'HomeFTGAgainstLast5Avg', 'HomeSAgainstLast5Avg',\n",
       "       'HomeSTAgainstLast5Avg', 'HomeCAgainstLast5Avg',\n",
       "       'AwayFTGAgainstLast5Avg', 'AwaySAgainstLast5Avg',\n",
       "       'AwaySTAgainstLast5Avg', 'AwayCAgainstLast5Avg'],\n",
       "      dtype='object')"
      ]
     },
     "execution_count": 70,
     "metadata": {},
     "output_type": "execute_result"
    }
   ],
   "source": [
    "df.columns"
   ]
  },
  {
   "cell_type": "code",
   "execution_count": 71,
   "id": "59534995",
   "metadata": {},
   "outputs": [
    {
     "data": {
      "text/plain": [
       "HC                        1.000000\n",
       "AC                       -0.201772\n",
       "FTHGLast5Avg              0.109885\n",
       "HSLast5Avg                0.124224\n",
       "HSTLast5Avg               0.138204\n",
       "HCLast5Avg                0.145553\n",
       "FTAGLast5Avg             -0.078255\n",
       "ASLast5Avg               -0.085692\n",
       "ASTLast5Avg              -0.061220\n",
       "ACLast5Avg               -0.056391\n",
       "HomeFTGForLast5Avg        0.107286\n",
       "HomeSForLast5Avg          0.126753\n",
       "HomeSTForLast5Avg         0.139080\n",
       "HomeCForLast5Avg          0.147651\n",
       "AwayFTGForLast5Avg       -0.083235\n",
       "AwaySForLast5Avg         -0.080685\n",
       "AwaySTForLast5Avg        -0.060688\n",
       "AwayCForLast5Avg         -0.056640\n",
       "HomeFTGAgainstLast5Avg   -0.070043\n",
       "HomeSAgainstLast5Avg     -0.080986\n",
       "HomeSTAgainstLast5Avg    -0.046370\n",
       "HomeCAgainstLast5Avg     -0.058521\n",
       "AwayFTGAgainstLast5Avg    0.095180\n",
       "AwaySAgainstLast5Avg      0.131915\n",
       "AwaySTAgainstLast5Avg     0.131754\n",
       "AwayCAgainstLast5Avg      0.139409\n",
       "Name: HC, dtype: float64"
      ]
     },
     "execution_count": 71,
     "metadata": {},
     "output_type": "execute_result"
    }
   ],
   "source": [
    "df[['HC', 'AC', 'FTHGLast5Avg', 'HSLast5Avg',\n",
    "    'HSTLast5Avg', 'HCLast5Avg', 'FTAGLast5Avg', 'ASLast5Avg',\n",
    "    'ASTLast5Avg', 'ACLast5Avg', 'HomeFTGForLast5Avg', 'HomeSForLast5Avg',\n",
    "    'HomeSTForLast5Avg', 'HomeCForLast5Avg', 'AwayFTGForLast5Avg',\n",
    "    'AwaySForLast5Avg', 'AwaySTForLast5Avg', 'AwayCForLast5Avg',\n",
    "    'HomeFTGAgainstLast5Avg', 'HomeSAgainstLast5Avg',\n",
    "    'HomeSTAgainstLast5Avg', 'HomeCAgainstLast5Avg',\n",
    "    'AwayFTGAgainstLast5Avg', 'AwaySAgainstLast5Avg',\n",
    "    'AwaySTAgainstLast5Avg', 'AwayCAgainstLast5Avg']].corr()['HC']"
   ]
  },
  {
   "cell_type": "code",
   "execution_count": 72,
   "id": "4eb6b40e-453d-4f73-84ce-e3145cbe3954",
   "metadata": {},
   "outputs": [
    {
     "data": {
      "text/plain": [
       "HC                       -0.201772\n",
       "AC                        1.000000\n",
       "FTHGLast5Avg             -0.073731\n",
       "HSLast5Avg               -0.081401\n",
       "HSTLast5Avg              -0.063083\n",
       "HCLast5Avg               -0.051128\n",
       "FTAGLast5Avg              0.096929\n",
       "ASLast5Avg                0.105602\n",
       "ASTLast5Avg               0.122032\n",
       "ACLast5Avg                0.129273\n",
       "HomeFTGForLast5Avg       -0.069478\n",
       "HomeSForLast5Avg         -0.084400\n",
       "HomeSTForLast5Avg        -0.064282\n",
       "HomeCForLast5Avg         -0.050652\n",
       "AwayFTGForLast5Avg        0.097883\n",
       "AwaySForLast5Avg          0.107194\n",
       "AwaySTForLast5Avg         0.124387\n",
       "AwayCForLast5Avg          0.138827\n",
       "HomeFTGAgainstLast5Avg    0.087523\n",
       "HomeSAgainstLast5Avg      0.112796\n",
       "HomeSTAgainstLast5Avg     0.115713\n",
       "HomeCAgainstLast5Avg      0.138411\n",
       "AwayFTGAgainstLast5Avg   -0.070855\n",
       "AwaySAgainstLast5Avg     -0.093404\n",
       "AwaySTAgainstLast5Avg    -0.057423\n",
       "AwayCAgainstLast5Avg     -0.054753\n",
       "Name: AC, dtype: float64"
      ]
     },
     "execution_count": 72,
     "metadata": {},
     "output_type": "execute_result"
    }
   ],
   "source": [
    "df[['HC', 'AC', 'FTHGLast5Avg', 'HSLast5Avg',\n",
    "    'HSTLast5Avg', 'HCLast5Avg', 'FTAGLast5Avg', 'ASLast5Avg',\n",
    "    'ASTLast5Avg', 'ACLast5Avg', 'HomeFTGForLast5Avg', 'HomeSForLast5Avg',\n",
    "    'HomeSTForLast5Avg', 'HomeCForLast5Avg', 'AwayFTGForLast5Avg',\n",
    "    'AwaySForLast5Avg', 'AwaySTForLast5Avg', 'AwayCForLast5Avg',\n",
    "    'HomeFTGAgainstLast5Avg', 'HomeSAgainstLast5Avg',\n",
    "    'HomeSTAgainstLast5Avg', 'HomeCAgainstLast5Avg',\n",
    "    'AwayFTGAgainstLast5Avg', 'AwaySAgainstLast5Avg',\n",
    "    'AwaySTAgainstLast5Avg', 'AwayCAgainstLast5Avg']].corr()['AC']"
   ]
  },
  {
   "cell_type": "code",
   "execution_count": null,
   "id": "a2b5d23a-ba87-46f5-8975-454b17df1aaf",
   "metadata": {},
   "outputs": [],
   "source": []
  }
 ],
 "metadata": {
  "kernelspec": {
   "display_name": "Python 3 (ipykernel)",
   "language": "python",
   "name": "python3"
  },
  "language_info": {
   "codemirror_mode": {
    "name": "ipython",
    "version": 3
   },
   "file_extension": ".py",
   "mimetype": "text/x-python",
   "name": "python",
   "nbconvert_exporter": "python",
   "pygments_lexer": "ipython3",
   "version": "3.8.5"
  },
  "toc": {
   "base_numbering": 1,
   "nav_menu": {},
   "number_sections": false,
   "sideBar": true,
   "skip_h1_title": false,
   "title_cell": "Table of Contents",
   "title_sidebar": "Contents",
   "toc_cell": false,
   "toc_position": {},
   "toc_section_display": true,
   "toc_window_display": true
  },
  "toc-showcode": false
 },
 "nbformat": 4,
 "nbformat_minor": 5
}
