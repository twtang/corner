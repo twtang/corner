{
 "cells": [
  {
   "cell_type": "code",
   "execution_count": 1,
   "id": "47e5b1da-2cb1-46e1-9f00-074abc7c53ba",
   "metadata": {},
   "outputs": [],
   "source": [
    "%reload_ext autoreload\n",
    "%autoreload 2\n",
    "%matplotlib inline"
   ]
  },
  {
   "cell_type": "code",
   "execution_count": 2,
   "id": "3ba193e1-1ea9-4aad-ab5e-7e6303cc857b",
   "metadata": {
    "tags": []
   },
   "outputs": [],
   "source": [
    "SEASON = '22'"
   ]
  },
  {
   "cell_type": "code",
   "execution_count": 3,
   "id": "9be4a7dd-7687-4f35-8fd5-76b80232fdc8",
   "metadata": {},
   "outputs": [],
   "source": [
    "# Download latest results in current season\n",
    "!wget -q https://www.football-data.co.uk/mmz4281/{SEASON}{int(SEASON)+1}/data.zip -O raw_data/data.zip\n",
    "\n",
    "# Unzip to folder\n",
    "!unzip -q -o raw_data/data.zip -d raw_data/{SEASON}"
   ]
  },
  {
   "cell_type": "code",
   "execution_count": 4,
   "id": "605eba16",
   "metadata": {},
   "outputs": [],
   "source": [
    "from fastai.tabular.all import * \n",
    "from utils import *"
   ]
  },
  {
   "cell_type": "code",
   "execution_count": 5,
   "id": "f1841e25",
   "metadata": {},
   "outputs": [],
   "source": [
    "path_raw = Path('raw_data')\n",
    "path_data = Path('data')"
   ]
  },
  {
   "cell_type": "code",
   "execution_count": 6,
   "id": "9429134d",
   "metadata": {},
   "outputs": [
    {
     "name": "stdout",
     "output_type": "stream",
     "text": [
      "total 15488\n",
      "drwxr-xr-x  24 twtang  staff   768B Aug 26 22:32 \u001b[1m\u001b[36m22\u001b[m\u001b[m\n",
      "-rw-r--r--   1 twtang  staff   104K Aug 23 06:20 data.zip\n",
      "-rw-r--r--@  1 twtang  staff   6.0K Aug  5 20:56 .DS_Store\n",
      "drwxr-xr-x  22 twtang  staff   704B Aug  5 20:55 \u001b[1m\u001b[36m..\u001b[m\u001b[m\n",
      "drwxr-xr-x  27 twtang  staff   864B Aug  2 21:30 \u001b[1m\u001b[36m.\u001b[m\u001b[m\n",
      "drwx------@ 24 twtang  staff   768B Aug  2 21:29 \u001b[1m\u001b[36m21\u001b[m\u001b[m\n",
      "-rw-r--r--@  1 twtang  staff   1.0M Aug  2 21:28 21.zip\n",
      "drwx------@ 24 twtang  staff   768B Nov 20  2021 \u001b[1m\u001b[36m13\u001b[m\u001b[m\n",
      "drwx------@ 24 twtang  staff   768B Nov 20  2021 \u001b[1m\u001b[36m12\u001b[m\u001b[m\n",
      "drwx------@ 24 twtang  staff   768B Nov 20  2021 \u001b[1m\u001b[36m11\u001b[m\u001b[m\n",
      "drwx------@ 24 twtang  staff   768B Nov 20  2021 \u001b[1m\u001b[36m14\u001b[m\u001b[m\n",
      "drwx------@ 24 twtang  staff   768B Oct 30  2021 \u001b[1m\u001b[36m20\u001b[m\u001b[m\n",
      "drwx------@ 24 twtang  staff   768B Oct 30  2021 \u001b[1m\u001b[36m19\u001b[m\u001b[m\n",
      "drwx------@ 24 twtang  staff   768B Oct 30  2021 \u001b[1m\u001b[36m18\u001b[m\u001b[m\n",
      "drwx------@ 24 twtang  staff   768B Oct 30  2021 \u001b[1m\u001b[36m17\u001b[m\u001b[m\n",
      "drwx------@ 24 twtang  staff   768B Oct 30  2021 \u001b[1m\u001b[36m16\u001b[m\u001b[m\n",
      "drwx------@ 24 twtang  staff   768B Oct 30  2021 \u001b[1m\u001b[36m15\u001b[m\u001b[m\n",
      "-rw-r--r--@  1 twtang  staff   615K Aug 25  2021 17.zip\n",
      "-rw-r--r--@  1 twtang  staff   889K Jun 18  2021 19.zip\n",
      "-rw-r--r--@  1 twtang  staff   988K Jun 18  2021 20.zip\n",
      "-rw-r--r--@  1 twtang  staff   577K Apr 24  2021 18.zip\n",
      "-rw-r--r--@  1 twtang  staff   569K Jan 29  2021 15.zip\n",
      "-rw-r--r--@  1 twtang  staff   582K Oct 11  2018 14.zip\n",
      "-rw-r--r--@  1 twtang  staff   589K Oct 11  2018 13.zip\n",
      "-rw-r--r--@  1 twtang  staff   570K Oct 11  2018 16.zip\n",
      "-rw-r--r--@  1 twtang  staff   610K Jan  6  2018 12.zip\n",
      "-rw-r--r--@  1 twtang  staff   566K Jan  6  2017 11.zip\n"
     ]
    }
   ],
   "source": [
    "!ls -lah -t {str(path_raw)}"
   ]
  },
  {
   "cell_type": "code",
   "execution_count": 7,
   "id": "a79fba5a",
   "metadata": {},
   "outputs": [
    {
     "data": {
      "text/plain": [
       "[Path('raw_data/.DS_Store'),\n",
       " Path('raw_data/11'),\n",
       " Path('raw_data/11.zip'),\n",
       " Path('raw_data/12'),\n",
       " Path('raw_data/12.zip'),\n",
       " Path('raw_data/13'),\n",
       " Path('raw_data/13.zip'),\n",
       " Path('raw_data/14'),\n",
       " Path('raw_data/14.zip'),\n",
       " Path('raw_data/15'),\n",
       " Path('raw_data/15.zip'),\n",
       " Path('raw_data/16'),\n",
       " Path('raw_data/16.zip'),\n",
       " Path('raw_data/17'),\n",
       " Path('raw_data/17.zip'),\n",
       " Path('raw_data/18'),\n",
       " Path('raw_data/18.zip'),\n",
       " Path('raw_data/19'),\n",
       " Path('raw_data/19.zip'),\n",
       " Path('raw_data/20'),\n",
       " Path('raw_data/20.zip'),\n",
       " Path('raw_data/21'),\n",
       " Path('raw_data/21.zip'),\n",
       " Path('raw_data/22'),\n",
       " Path('raw_data/data.zip')]"
      ]
     },
     "execution_count": 7,
     "metadata": {},
     "output_type": "execute_result"
    }
   ],
   "source": [
    "sorted(list(path_raw.iterdir()))"
   ]
  },
  {
   "cell_type": "code",
   "execution_count": 8,
   "id": "faf01aff",
   "metadata": {},
   "outputs": [],
   "source": [
    "usecols = ['Div', 'Date', 'HomeTeam', 'AwayTeam', 'HC', 'AC', 'FTHG', 'FTAG', 'HS', 'AS', 'HST', 'AST']\n",
    "dtype = {'HC':'float', 'AC':'float'}\n",
    "parse_dates = ['Date']\n",
    "\n",
    "seasons = [str(s).zfill(2) for s in range(11, 23)]"
   ]
  },
  {
   "cell_type": "code",
   "execution_count": 9,
   "id": "ea5f339a",
   "metadata": {},
   "outputs": [],
   "source": [
    "dfs = []\n",
    "\n",
    "for folder in sorted(path_raw.iterdir()):\n",
    "    if folder.is_dir() and folder.name in seasons: \n",
    "        for file in sorted(folder.glob('*.csv')):\n",
    "            try:\n",
    "                df = pd.read_csv(file, usecols=usecols, dtype=dtype, parse_dates=parse_dates, dayfirst=True)\n",
    "                df['Season'] = folder.name\n",
    "                dfs.append(df)\n",
    "            except:\n",
    "                continue"
   ]
  },
  {
   "cell_type": "code",
   "execution_count": 10,
   "id": "0577b00d",
   "metadata": {},
   "outputs": [],
   "source": [
    "df = pd.concat(dfs)\n",
    "df = df.dropna()\n",
    "df = df.sort_values(['Div', 'Date', 'HomeTeam']).reset_index(drop=True)"
   ]
  },
  {
   "cell_type": "code",
   "execution_count": 11,
   "id": "01933fca",
   "metadata": {},
   "outputs": [],
   "source": [
    "# Make features on historical stats (Home and Away)\n",
    "stats = ['FTHG', 'HS', 'HST', 'HC', 'FTAG', 'AS', 'AST', 'AC']\n",
    "df_home, df_away = joinLastGamesStatsHomeAway(df, stats)"
   ]
  },
  {
   "cell_type": "code",
   "execution_count": 12,
   "id": "ae450b6e-ae8b-49b1-a4f2-3391cb1d8aef",
   "metadata": {},
   "outputs": [],
   "source": [
    "# Make features on historical stats (For and Against)\n",
    "stats = [('FTHG', 'FTAG', 'FTG'), ('HS', 'AS', 'S'), ('HST', 'AST', 'ST'), ('HC', 'AC', 'C')]\n",
    "df_for, df_against = joinLastGamesStatsForAgainst(df, stats)"
   ]
  },
  {
   "cell_type": "code",
   "execution_count": 13,
   "id": "48e33655-454f-48d0-8965-4a5a3b076c04",
   "metadata": {},
   "outputs": [],
   "source": [
    "df = df.merge(df_home, 'left', ['HomeTeam', 'Date']).merge(df_away, 'left', ['AwayTeam', 'Date'])"
   ]
  },
  {
   "cell_type": "code",
   "execution_count": 14,
   "id": "31c492c4-9312-4bf6-b41e-3ecca0937824",
   "metadata": {},
   "outputs": [],
   "source": [
    "cols_home = df_for.columns[df_for.columns.str.contains('Avg')]\n",
    "cols_home = dict(zip(cols_home, 'Home'+cols_home))\n",
    "cols_home.update({'Team':'HomeTeam'})\n",
    "\n",
    "cols_away = df_for.columns[df_for.columns.str.contains('Avg')]\n",
    "cols_away = dict(zip(cols_home, 'Away'+cols_away))\n",
    "cols_away.update({'Team':'AwayTeam'})\n",
    "\n",
    "df = df.merge(df_for.rename(columns=cols_home), 'left', ['HomeTeam', 'Date']).merge(df_for.rename(columns=cols_away), 'left', ['AwayTeam', 'Date'])"
   ]
  },
  {
   "cell_type": "code",
   "execution_count": 15,
   "id": "ba89d6c5-6630-416b-997c-cc5344141ee9",
   "metadata": {},
   "outputs": [],
   "source": [
    "cols_home = df_against.columns[df_against.columns.str.contains('Avg')]\n",
    "cols_home = dict(zip(cols_home, 'Home'+cols_home))\n",
    "cols_home.update({'Team':'HomeTeam'})\n",
    "\n",
    "cols_away = df_against.columns[df_against.columns.str.contains('Avg')]\n",
    "cols_away = dict(zip(cols_home, 'Away'+cols_away))\n",
    "cols_away.update({'Team':'AwayTeam'})\n",
    "\n",
    "df = df.merge(df_against.rename(columns=cols_home), 'left', ['HomeTeam', 'Date']).merge(df_against.rename(columns=cols_away), 'left', ['AwayTeam', 'Date'])"
   ]
  },
  {
   "cell_type": "code",
   "execution_count": 16,
   "id": "c15c3d12",
   "metadata": {},
   "outputs": [],
   "source": [
    "df = df.sort_values(['Div', 'Date', 'HomeTeam']).reset_index(drop=True)"
   ]
  },
  {
   "cell_type": "code",
   "execution_count": 17,
   "id": "b4f3681f",
   "metadata": {},
   "outputs": [],
   "source": [
    "df.to_csv(path_data/'data.csv', index=False)"
   ]
  },
  {
   "cell_type": "code",
   "execution_count": 18,
   "id": "bc37e615-b560-4f77-ae60-730379dd0154",
   "metadata": {},
   "outputs": [
    {
     "data": {
      "text/plain": [
       "Index(['Div', 'Date', 'HomeTeam', 'AwayTeam', 'FTHG', 'FTAG', 'HS', 'AS',\n",
       "       'HST', 'AST', 'HC', 'AC', 'Season', 'FTHGLast5Avg', 'HSLast5Avg',\n",
       "       'HSTLast5Avg', 'HCLast5Avg', 'FTAGLast5Avg', 'ASLast5Avg',\n",
       "       'ASTLast5Avg', 'ACLast5Avg', 'HomeFTGForLast5Avg', 'HomeSForLast5Avg',\n",
       "       'HomeSTForLast5Avg', 'HomeCForLast5Avg', 'AwayFTGForLast5Avg',\n",
       "       'AwaySForLast5Avg', 'AwaySTForLast5Avg', 'AwayCForLast5Avg',\n",
       "       'HomeFTGAgainstLast5Avg', 'HomeSAgainstLast5Avg',\n",
       "       'HomeSTAgainstLast5Avg', 'HomeCAgainstLast5Avg',\n",
       "       'AwayFTGAgainstLast5Avg', 'AwaySAgainstLast5Avg',\n",
       "       'AwaySTAgainstLast5Avg', 'AwayCAgainstLast5Avg'],\n",
       "      dtype='object')"
      ]
     },
     "execution_count": 18,
     "metadata": {},
     "output_type": "execute_result"
    }
   ],
   "source": [
    "df.columns"
   ]
  },
  {
   "cell_type": "code",
   "execution_count": 19,
   "id": "59534995",
   "metadata": {},
   "outputs": [
    {
     "data": {
      "text/plain": [
       "HC                        1.000000\n",
       "AC                       -0.212092\n",
       "FTHGLast5Avg              0.115524\n",
       "HSLast5Avg                0.128947\n",
       "HSTLast5Avg               0.141257\n",
       "HCLast5Avg                0.143956\n",
       "FTAGLast5Avg             -0.082864\n",
       "ASLast5Avg               -0.087861\n",
       "ASTLast5Avg              -0.068250\n",
       "ACLast5Avg               -0.060898\n",
       "HomeFTGForLast5Avg        0.111412\n",
       "HomeSForLast5Avg          0.132487\n",
       "HomeSTForLast5Avg         0.142485\n",
       "HomeCForLast5Avg          0.147292\n",
       "AwayFTGForLast5Avg       -0.088057\n",
       "AwaySForLast5Avg         -0.084867\n",
       "AwaySTForLast5Avg        -0.071270\n",
       "AwayCForLast5Avg         -0.061582\n",
       "HomeFTGAgainstLast5Avg   -0.073826\n",
       "HomeSAgainstLast5Avg     -0.088265\n",
       "HomeSTAgainstLast5Avg    -0.056608\n",
       "HomeCAgainstLast5Avg     -0.065793\n",
       "AwayFTGAgainstLast5Avg    0.095167\n",
       "AwaySAgainstLast5Avg      0.135627\n",
       "AwaySTAgainstLast5Avg     0.128859\n",
       "AwayCAgainstLast5Avg      0.137831\n",
       "Name: HC, dtype: float64"
      ]
     },
     "execution_count": 19,
     "metadata": {},
     "output_type": "execute_result"
    }
   ],
   "source": [
    "df[['HC', 'AC', 'FTHGLast5Avg', 'HSLast5Avg',\n",
    "    'HSTLast5Avg', 'HCLast5Avg', 'FTAGLast5Avg', 'ASLast5Avg',\n",
    "    'ASTLast5Avg', 'ACLast5Avg', 'HomeFTGForLast5Avg', 'HomeSForLast5Avg',\n",
    "    'HomeSTForLast5Avg', 'HomeCForLast5Avg', 'AwayFTGForLast5Avg',\n",
    "    'AwaySForLast5Avg', 'AwaySTForLast5Avg', 'AwayCForLast5Avg',\n",
    "    'HomeFTGAgainstLast5Avg', 'HomeSAgainstLast5Avg',\n",
    "    'HomeSTAgainstLast5Avg', 'HomeCAgainstLast5Avg',\n",
    "    'AwayFTGAgainstLast5Avg', 'AwaySAgainstLast5Avg',\n",
    "    'AwaySTAgainstLast5Avg', 'AwayCAgainstLast5Avg']].corr()['HC']"
   ]
  },
  {
   "cell_type": "code",
   "execution_count": 20,
   "id": "4eb6b40e-453d-4f73-84ce-e3145cbe3954",
   "metadata": {},
   "outputs": [
    {
     "data": {
      "text/plain": [
       "HC                       -0.212092\n",
       "AC                        1.000000\n",
       "FTHGLast5Avg             -0.080898\n",
       "HSLast5Avg               -0.082692\n",
       "HSTLast5Avg              -0.072142\n",
       "HCLast5Avg               -0.055892\n",
       "FTAGLast5Avg              0.100206\n",
       "ASLast5Avg                0.114347\n",
       "ASTLast5Avg               0.122438\n",
       "ACLast5Avg                0.131701\n",
       "HomeFTGForLast5Avg       -0.074419\n",
       "HomeSForLast5Avg         -0.086877\n",
       "HomeSTForLast5Avg        -0.074066\n",
       "HomeCForLast5Avg         -0.056471\n",
       "AwayFTGForLast5Avg        0.102721\n",
       "AwaySForLast5Avg          0.114743\n",
       "AwaySTForLast5Avg         0.126632\n",
       "AwayCForLast5Avg          0.141172\n",
       "HomeFTGAgainstLast5Avg    0.088237\n",
       "HomeSAgainstLast5Avg      0.118271\n",
       "HomeSTAgainstLast5Avg     0.115207\n",
       "HomeCAgainstLast5Avg      0.140014\n",
       "AwayFTGAgainstLast5Avg   -0.073325\n",
       "AwaySAgainstLast5Avg     -0.094724\n",
       "AwaySTAgainstLast5Avg    -0.064278\n",
       "AwayCAgainstLast5Avg     -0.058662\n",
       "Name: AC, dtype: float64"
      ]
     },
     "execution_count": 20,
     "metadata": {},
     "output_type": "execute_result"
    }
   ],
   "source": [
    "df[['HC', 'AC', 'FTHGLast5Avg', 'HSLast5Avg',\n",
    "    'HSTLast5Avg', 'HCLast5Avg', 'FTAGLast5Avg', 'ASLast5Avg',\n",
    "    'ASTLast5Avg', 'ACLast5Avg', 'HomeFTGForLast5Avg', 'HomeSForLast5Avg',\n",
    "    'HomeSTForLast5Avg', 'HomeCForLast5Avg', 'AwayFTGForLast5Avg',\n",
    "    'AwaySForLast5Avg', 'AwaySTForLast5Avg', 'AwayCForLast5Avg',\n",
    "    'HomeFTGAgainstLast5Avg', 'HomeSAgainstLast5Avg',\n",
    "    'HomeSTAgainstLast5Avg', 'HomeCAgainstLast5Avg',\n",
    "    'AwayFTGAgainstLast5Avg', 'AwaySAgainstLast5Avg',\n",
    "    'AwaySTAgainstLast5Avg', 'AwayCAgainstLast5Avg']].corr()['AC']"
   ]
  },
  {
   "cell_type": "markdown",
   "id": "aeaaee4e",
   "metadata": {},
   "source": [
    "## END"
   ]
  },
  {
   "cell_type": "code",
   "execution_count": null,
   "id": "a2b5d23a-ba87-46f5-8975-454b17df1aaf",
   "metadata": {},
   "outputs": [],
   "source": []
  }
 ],
 "metadata": {
  "interpreter": {
   "hash": "bd85dca0b5a277a5f4d6756dad2fa4f80dd2f1a45bbbdfdf6da378f21bb32ad7"
  },
  "kernelspec": {
   "display_name": "Python 3 (ipykernel)",
   "language": "python",
   "name": "python3"
  },
  "language_info": {
   "codemirror_mode": {
    "name": "ipython",
    "version": 3
   },
   "file_extension": ".py",
   "mimetype": "text/x-python",
   "name": "python",
   "nbconvert_exporter": "python",
   "pygments_lexer": "ipython3",
   "version": "3.8.12"
  },
  "toc": {
   "base_numbering": 1,
   "nav_menu": {},
   "number_sections": false,
   "sideBar": true,
   "skip_h1_title": false,
   "title_cell": "Table of Contents",
   "title_sidebar": "Contents",
   "toc_cell": false,
   "toc_position": {},
   "toc_section_display": true,
   "toc_window_display": true
  },
  "toc-showcode": false
 },
 "nbformat": 4,
 "nbformat_minor": 5
}
