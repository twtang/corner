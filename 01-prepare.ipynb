{
 "cells": [
  {
   "cell_type": "code",
   "execution_count": 2,
   "id": "47e5b1da-2cb1-46e1-9f00-074abc7c53ba",
   "metadata": {},
   "outputs": [],
   "source": [
    "%reload_ext autoreload\n",
    "%autoreload 2\n",
    "%matplotlib inline"
   ]
  },
  {
   "cell_type": "code",
   "execution_count": 3,
   "id": "3ba193e1-1ea9-4aad-ab5e-7e6303cc857b",
   "metadata": {
    "tags": []
   },
   "outputs": [],
   "source": [
    "SEASON = '21'"
   ]
  },
  {
   "cell_type": "code",
   "execution_count": 7,
   "id": "9be4a7dd-7687-4f35-8fd5-76b80232fdc8",
   "metadata": {},
   "outputs": [],
   "source": [
    "# Download latest results in current season\n",
    "!wget -q https://www.football-data.co.uk/mmz4281/{SEASON}{int(SEASON)+1}/data.zip -O raw_data/data.zip\n",
    "\n",
    "# Unzip to folder\n",
    "!unzip -q -o raw_data/data.zip -d raw_data/{SEASON}"
   ]
  },
  {
   "cell_type": "code",
   "execution_count": 8,
   "id": "605eba16",
   "metadata": {},
   "outputs": [],
   "source": [
    "from fastai.tabular.all import * \n",
    "from utils import *"
   ]
  },
  {
   "cell_type": "code",
   "execution_count": 9,
   "id": "f1841e25",
   "metadata": {},
   "outputs": [],
   "source": [
    "path_raw = Path('raw_data')\n",
    "path_data = Path('data')"
   ]
  },
  {
   "cell_type": "code",
   "execution_count": 10,
   "id": "9429134d",
   "metadata": {},
   "outputs": [
    {
     "name": "stdout",
     "output_type": "stream",
     "text": [
      "total 9880\n",
      "drwxr-xr-x  25 twtang  staff   800B Nov  7 08:18 \u001b[1m\u001b[36m21\u001b[m\u001b[m\n",
      "drwxr-xr-x  21 twtang  staff   672B Nov  7 08:15 \u001b[1m\u001b[36m..\u001b[m\u001b[m\n",
      "-rw-r--r--@  1 twtang  staff    10K Nov  5 21:57 .DS_Store\n",
      "-rw-r--r--   1 twtang  staff   336K Nov  5 06:49 data.zip\n",
      "drwxr-xr-x  18 twtang  staff   576B Oct 30 14:35 \u001b[1m\u001b[36m.\u001b[m\u001b[m\n",
      "drwx------@ 24 twtang  staff   768B Oct 30 14:35 \u001b[1m\u001b[36m20\u001b[m\u001b[m\n",
      "drwx------@ 24 twtang  staff   768B Oct 30 14:35 \u001b[1m\u001b[36m19\u001b[m\u001b[m\n",
      "drwx------@ 24 twtang  staff   768B Oct 30 14:35 \u001b[1m\u001b[36m18\u001b[m\u001b[m\n",
      "drwx------@ 24 twtang  staff   768B Oct 30 14:35 \u001b[1m\u001b[36m17\u001b[m\u001b[m\n",
      "drwx------@ 24 twtang  staff   768B Oct 30 14:35 \u001b[1m\u001b[36m16\u001b[m\u001b[m\n",
      "drwx------@ 24 twtang  staff   768B Oct 30 14:34 \u001b[1m\u001b[36m15\u001b[m\u001b[m\n",
      "-rw-r--r--   1 twtang  staff   314K Oct 29 06:22 21.zip\n",
      "-rw-r--r--@  1 twtang  staff   615K Aug 25 18:10 17.zip\n",
      "-rw-r--r--@  1 twtang  staff   889K Jun 18 19:44 19.zip\n",
      "-rw-r--r--@  1 twtang  staff   988K Jun 18 19:29 20.zip\n",
      "-rw-r--r--@  1 twtang  staff   577K Apr 24  2021 18.zip\n",
      "-rw-r--r--@  1 twtang  staff   569K Jan 29  2021 15.zip\n",
      "-rw-r--r--@  1 twtang  staff   570K Oct 11  2018 16.zip\n"
     ]
    }
   ],
   "source": [
    "!ls -lah -t {str(path_raw)}"
   ]
  },
  {
   "cell_type": "code",
   "execution_count": 11,
   "id": "a79fba5a",
   "metadata": {},
   "outputs": [
    {
     "data": {
      "text/plain": [
       "[Path('raw_data/.DS_Store'),\n",
       " Path('raw_data/15'),\n",
       " Path('raw_data/15.zip'),\n",
       " Path('raw_data/16'),\n",
       " Path('raw_data/16.zip'),\n",
       " Path('raw_data/17'),\n",
       " Path('raw_data/17.zip'),\n",
       " Path('raw_data/18'),\n",
       " Path('raw_data/18.zip'),\n",
       " Path('raw_data/19'),\n",
       " Path('raw_data/19.zip'),\n",
       " Path('raw_data/20'),\n",
       " Path('raw_data/20.zip'),\n",
       " Path('raw_data/21'),\n",
       " Path('raw_data/21.zip'),\n",
       " Path('raw_data/data.zip')]"
      ]
     },
     "execution_count": 11,
     "metadata": {},
     "output_type": "execute_result"
    }
   ],
   "source": [
    "sorted(list(path_raw.iterdir()))"
   ]
  },
  {
   "cell_type": "code",
   "execution_count": 12,
   "id": "faf01aff",
   "metadata": {},
   "outputs": [],
   "source": [
    "usecols = ['Div', 'Date', 'HomeTeam', 'AwayTeam', 'HC', 'AC', 'FTHG', 'FTAG', 'HS', 'AS', 'HST', 'AST']\n",
    "dtype = {'HC':'float', 'AC':'float'}\n",
    "parse_dates = ['Date']\n",
    "\n",
    "seasons = [str(s).zfill(2) for s in range(15, 22)]"
   ]
  },
  {
   "cell_type": "code",
   "execution_count": 13,
   "id": "ea5f339a",
   "metadata": {},
   "outputs": [],
   "source": [
    "dfs = []\n",
    "\n",
    "for folder in sorted(path_raw.iterdir()):\n",
    "    if folder.is_dir() and folder.name in seasons: \n",
    "        for file in sorted(folder.glob('*.csv')):\n",
    "            try:\n",
    "                df = pd.read_csv(file, usecols=usecols, dtype=dtype, parse_dates=parse_dates, dayfirst=True)\n",
    "                df['Season'] = folder.name\n",
    "                dfs.append(df)\n",
    "            except:\n",
    "                continue"
   ]
  },
  {
   "cell_type": "code",
   "execution_count": 14,
   "id": "0577b00d",
   "metadata": {},
   "outputs": [],
   "source": [
    "df = pd.concat(dfs)\n",
    "df = df.dropna()\n",
    "df = df.sort_values(['Div', 'Date', 'HomeTeam']).reset_index(drop=True)"
   ]
  },
  {
   "cell_type": "code",
   "execution_count": 15,
   "id": "01933fca",
   "metadata": {},
   "outputs": [],
   "source": [
    "# Make features on historical stats (Home and Away)\n",
    "stats = ['FTHG', 'HS', 'HST', 'HC', 'FTAG', 'AS', 'AST', 'AC']\n",
    "df_home, df_away = joinLastGamesStatsHomeAway(df, stats)"
   ]
  },
  {
   "cell_type": "code",
   "execution_count": 16,
   "id": "ae450b6e-ae8b-49b1-a4f2-3391cb1d8aef",
   "metadata": {},
   "outputs": [],
   "source": [
    "# Make features on historical stats (For and Against)\n",
    "stats = [('FTHG', 'FTAG', 'FTG'), ('HS', 'AS', 'S'), ('HST', 'AST', 'ST'), ('HC', 'AC', 'C')]\n",
    "df_for, df_against = joinLastGamesStatsForAgainst(df, stats)"
   ]
  },
  {
   "cell_type": "code",
   "execution_count": 17,
   "id": "48e33655-454f-48d0-8965-4a5a3b076c04",
   "metadata": {},
   "outputs": [],
   "source": [
    "df = df.merge(df_home, 'left', ['HomeTeam', 'Date']).merge(df_away, 'left', ['AwayTeam', 'Date'])"
   ]
  },
  {
   "cell_type": "code",
   "execution_count": 18,
   "id": "31c492c4-9312-4bf6-b41e-3ecca0937824",
   "metadata": {},
   "outputs": [],
   "source": [
    "cols_home = df_for.columns[df_for.columns.str.contains('Avg')]\n",
    "cols_home = dict(zip(cols_home, 'Home'+cols_home))\n",
    "cols_home.update({'Team':'HomeTeam'})\n",
    "\n",
    "cols_away = df_for.columns[df_for.columns.str.contains('Avg')]\n",
    "cols_away = dict(zip(cols_home, 'Away'+cols_away))\n",
    "cols_away.update({'Team':'AwayTeam'})\n",
    "\n",
    "df = df.merge(df_for.rename(columns=cols_home), 'left', ['HomeTeam', 'Date']).merge(df_for.rename(columns=cols_away), 'left', ['AwayTeam', 'Date'])"
   ]
  },
  {
   "cell_type": "code",
   "execution_count": 19,
   "id": "ba89d6c5-6630-416b-997c-cc5344141ee9",
   "metadata": {},
   "outputs": [],
   "source": [
    "cols_home = df_against.columns[df_against.columns.str.contains('Avg')]\n",
    "cols_home = dict(zip(cols_home, 'Home'+cols_home))\n",
    "cols_home.update({'Team':'HomeTeam'})\n",
    "\n",
    "cols_away = df_against.columns[df_against.columns.str.contains('Avg')]\n",
    "cols_away = dict(zip(cols_home, 'Away'+cols_away))\n",
    "cols_away.update({'Team':'AwayTeam'})\n",
    "\n",
    "df = df.merge(df_against.rename(columns=cols_home), 'left', ['HomeTeam', 'Date']).merge(df_against.rename(columns=cols_away), 'left', ['AwayTeam', 'Date'])"
   ]
  },
  {
   "cell_type": "code",
   "execution_count": 20,
   "id": "c15c3d12",
   "metadata": {},
   "outputs": [],
   "source": [
    "df = df.sort_values(['Div', 'Date', 'HomeTeam']).reset_index(drop=True)"
   ]
  },
  {
   "cell_type": "code",
   "execution_count": 21,
   "id": "b4f3681f",
   "metadata": {},
   "outputs": [],
   "source": [
    "df.to_csv(path_data/'data.csv', index=False)"
   ]
  },
  {
   "cell_type": "code",
   "execution_count": 22,
   "id": "bc37e615-b560-4f77-ae60-730379dd0154",
   "metadata": {},
   "outputs": [
    {
     "data": {
      "text/plain": [
       "Index(['Div', 'Date', 'HomeTeam', 'AwayTeam', 'FTHG', 'FTAG', 'HS', 'AS',\n",
       "       'HST', 'AST', 'HC', 'AC', 'Season', 'FTHGLast5Avg', 'HSLast5Avg',\n",
       "       'HSTLast5Avg', 'HCLast5Avg', 'FTAGLast5Avg', 'ASLast5Avg',\n",
       "       'ASTLast5Avg', 'ACLast5Avg', 'HomeFTGForLast5Avg', 'HomeSForLast5Avg',\n",
       "       'HomeSTForLast5Avg', 'HomeCForLast5Avg', 'AwayFTGForLast5Avg',\n",
       "       'AwaySForLast5Avg', 'AwaySTForLast5Avg', 'AwayCForLast5Avg',\n",
       "       'HomeFTGAgainstLast5Avg', 'HomeSAgainstLast5Avg',\n",
       "       'HomeSTAgainstLast5Avg', 'HomeCAgainstLast5Avg',\n",
       "       'AwayFTGAgainstLast5Avg', 'AwaySAgainstLast5Avg',\n",
       "       'AwaySTAgainstLast5Avg', 'AwayCAgainstLast5Avg'],\n",
       "      dtype='object')"
      ]
     },
     "execution_count": 22,
     "metadata": {},
     "output_type": "execute_result"
    }
   ],
   "source": [
    "df.columns"
   ]
  },
  {
   "cell_type": "code",
   "execution_count": 23,
   "id": "59534995",
   "metadata": {},
   "outputs": [
    {
     "data": {
      "text/plain": [
       "HC                        1.000000\n",
       "AC                       -0.218532\n",
       "FTHGLast5Avg              0.119302\n",
       "HSLast5Avg                0.140302\n",
       "HSTLast5Avg               0.138337\n",
       "HCLast5Avg                0.145801\n",
       "FTAGLast5Avg             -0.079451\n",
       "ASLast5Avg               -0.091699\n",
       "ASTLast5Avg              -0.084818\n",
       "ACLast5Avg               -0.068714\n",
       "HomeFTGForLast5Avg        0.120418\n",
       "HomeSForLast5Avg          0.144837\n",
       "HomeSTForLast5Avg         0.139234\n",
       "HomeCForLast5Avg          0.148493\n",
       "AwayFTGForLast5Avg       -0.088310\n",
       "AwaySForLast5Avg         -0.088023\n",
       "AwaySTForLast5Avg        -0.091943\n",
       "AwayCForLast5Avg         -0.069260\n",
       "HomeFTGAgainstLast5Avg   -0.077434\n",
       "HomeSAgainstLast5Avg     -0.091247\n",
       "HomeSTAgainstLast5Avg    -0.080784\n",
       "HomeCAgainstLast5Avg     -0.074606\n",
       "AwayFTGAgainstLast5Avg    0.098248\n",
       "AwaySAgainstLast5Avg      0.142409\n",
       "AwaySTAgainstLast5Avg     0.124777\n",
       "AwayCAgainstLast5Avg      0.139540\n",
       "Name: HC, dtype: float64"
      ]
     },
     "execution_count": 23,
     "metadata": {},
     "output_type": "execute_result"
    }
   ],
   "source": [
    "df[['HC', 'AC', 'FTHGLast5Avg', 'HSLast5Avg',\n",
    "    'HSTLast5Avg', 'HCLast5Avg', 'FTAGLast5Avg', 'ASLast5Avg',\n",
    "    'ASTLast5Avg', 'ACLast5Avg', 'HomeFTGForLast5Avg', 'HomeSForLast5Avg',\n",
    "    'HomeSTForLast5Avg', 'HomeCForLast5Avg', 'AwayFTGForLast5Avg',\n",
    "    'AwaySForLast5Avg', 'AwaySTForLast5Avg', 'AwayCForLast5Avg',\n",
    "    'HomeFTGAgainstLast5Avg', 'HomeSAgainstLast5Avg',\n",
    "    'HomeSTAgainstLast5Avg', 'HomeCAgainstLast5Avg',\n",
    "    'AwayFTGAgainstLast5Avg', 'AwaySAgainstLast5Avg',\n",
    "    'AwaySTAgainstLast5Avg', 'AwayCAgainstLast5Avg']].corr()['HC']"
   ]
  },
  {
   "cell_type": "code",
   "execution_count": 24,
   "id": "4eb6b40e-453d-4f73-84ce-e3145cbe3954",
   "metadata": {},
   "outputs": [
    {
     "data": {
      "text/plain": [
       "HC                       -0.218532\n",
       "AC                        1.000000\n",
       "FTHGLast5Avg             -0.078128\n",
       "HSLast5Avg               -0.081991\n",
       "HSTLast5Avg              -0.089296\n",
       "HCLast5Avg               -0.062057\n",
       "FTAGLast5Avg              0.106553\n",
       "ASLast5Avg                0.125511\n",
       "ASTLast5Avg               0.125138\n",
       "ACLast5Avg                0.132648\n",
       "HomeFTGForLast5Avg       -0.075198\n",
       "HomeSForLast5Avg         -0.082847\n",
       "HomeSTForLast5Avg        -0.088683\n",
       "HomeCForLast5Avg         -0.058380\n",
       "AwayFTGForLast5Avg        0.107749\n",
       "AwaySForLast5Avg          0.129369\n",
       "AwaySTForLast5Avg         0.129157\n",
       "AwayCForLast5Avg          0.141153\n",
       "HomeFTGAgainstLast5Avg    0.097382\n",
       "HomeSAgainstLast5Avg      0.135543\n",
       "HomeSTAgainstLast5Avg     0.119613\n",
       "HomeCAgainstLast5Avg      0.139912\n",
       "AwayFTGAgainstLast5Avg   -0.073007\n",
       "AwaySAgainstLast5Avg     -0.083952\n",
       "AwaySTAgainstLast5Avg    -0.078374\n",
       "AwayCAgainstLast5Avg     -0.060593\n",
       "Name: AC, dtype: float64"
      ]
     },
     "execution_count": 24,
     "metadata": {},
     "output_type": "execute_result"
    }
   ],
   "source": [
    "df[['HC', 'AC', 'FTHGLast5Avg', 'HSLast5Avg',\n",
    "    'HSTLast5Avg', 'HCLast5Avg', 'FTAGLast5Avg', 'ASLast5Avg',\n",
    "    'ASTLast5Avg', 'ACLast5Avg', 'HomeFTGForLast5Avg', 'HomeSForLast5Avg',\n",
    "    'HomeSTForLast5Avg', 'HomeCForLast5Avg', 'AwayFTGForLast5Avg',\n",
    "    'AwaySForLast5Avg', 'AwaySTForLast5Avg', 'AwayCForLast5Avg',\n",
    "    'HomeFTGAgainstLast5Avg', 'HomeSAgainstLast5Avg',\n",
    "    'HomeSTAgainstLast5Avg', 'HomeCAgainstLast5Avg',\n",
    "    'AwayFTGAgainstLast5Avg', 'AwaySAgainstLast5Avg',\n",
    "    'AwaySTAgainstLast5Avg', 'AwayCAgainstLast5Avg']].corr()['AC']"
   ]
  },
  {
   "cell_type": "markdown",
   "metadata": {},
   "source": [
    "## END"
   ]
  },
  {
   "cell_type": "code",
   "execution_count": null,
   "id": "a2b5d23a-ba87-46f5-8975-454b17df1aaf",
   "metadata": {},
   "outputs": [],
   "source": []
  }
 ],
 "metadata": {
  "interpreter": {
   "hash": "bd85dca0b5a277a5f4d6756dad2fa4f80dd2f1a45bbbdfdf6da378f21bb32ad7"
  },
  "kernelspec": {
   "display_name": "Python 3.8.12 64-bit ('fastai2': conda)",
   "name": "python3"
  },
  "language_info": {
   "codemirror_mode": {
    "name": "ipython",
    "version": 3
   },
   "file_extension": ".py",
   "mimetype": "text/x-python",
   "name": "python",
   "nbconvert_exporter": "python",
   "pygments_lexer": "ipython3",
   "version": "3.8.12"
  },
  "toc": {
   "base_numbering": 1,
   "nav_menu": {},
   "number_sections": false,
   "sideBar": true,
   "skip_h1_title": false,
   "title_cell": "Table of Contents",
   "title_sidebar": "Contents",
   "toc_cell": false,
   "toc_position": {},
   "toc_section_display": true,
   "toc_window_display": true
  },
  "toc-showcode": false
 },
 "nbformat": 4,
 "nbformat_minor": 5
}
